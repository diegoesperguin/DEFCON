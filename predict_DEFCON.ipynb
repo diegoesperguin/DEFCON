{
 "cells": [
  {
   "cell_type": "code",
   "execution_count": 1,
   "metadata": {
    "scrolled": true
   },
   "outputs": [],
   "source": [
    "# imports\n",
    "import numpy as np\n",
    "import pandas as pd\n",
    "import matplotlib.pyplot as plt\n",
    "import seaborn as sns\n",
    "import os\n",
    "%matplotlib inline"
   ]
  },
  {
   "cell_type": "code",
   "execution_count": 2,
   "metadata": {
    "scrolled": true
   },
   "outputs": [],
   "source": [
    "data_folder = os.getcwd() + \"/Dataset/\"\n",
    "train = \"train.csv\"\n",
    "test = \"test.csv\"\n"
   ]
  },
  {
   "cell_type": "code",
   "execution_count": 3,
   "metadata": {
    "scrolled": true
   },
   "outputs": [],
   "source": [
    "df = pd.read_csv(data_folder+train)"
   ]
  },
  {
   "cell_type": "code",
   "execution_count": 4,
   "metadata": {
    "scrolled": true
   },
   "outputs": [
    {
     "data": {
      "text/html": [
       "<div>\n",
       "<style scoped>\n",
       "    .dataframe tbody tr th:only-of-type {\n",
       "        vertical-align: middle;\n",
       "    }\n",
       "\n",
       "    .dataframe tbody tr th {\n",
       "        vertical-align: top;\n",
       "    }\n",
       "\n",
       "    .dataframe thead th {\n",
       "        text-align: right;\n",
       "    }\n",
       "</style>\n",
       "<table border=\"1\" class=\"dataframe\">\n",
       "  <thead>\n",
       "    <tr style=\"text-align: right;\">\n",
       "      <th></th>\n",
       "      <th>Allied_Nations</th>\n",
       "      <th>Diplomatic_Meetings_Set</th>\n",
       "      <th>Percent_Of_Forces_Mobilized</th>\n",
       "      <th>Hostile_Nations</th>\n",
       "      <th>Active_Threats</th>\n",
       "      <th>Inactive_Threats</th>\n",
       "      <th>Citizen_Fear_Index</th>\n",
       "      <th>Closest_Threat_Distance(km)</th>\n",
       "      <th>Aircraft_Carriers_Responding</th>\n",
       "      <th>Troops_Mobilized(thousands)</th>\n",
       "      <th>DEFCON_Level</th>\n",
       "      <th>ID</th>\n",
       "    </tr>\n",
       "  </thead>\n",
       "  <tbody>\n",
       "    <tr>\n",
       "      <th>0</th>\n",
       "      <td>16</td>\n",
       "      <td>1</td>\n",
       "      <td>0.67</td>\n",
       "      <td>3</td>\n",
       "      <td>6.0</td>\n",
       "      <td>25.0</td>\n",
       "      <td>0.787812</td>\n",
       "      <td>324.36</td>\n",
       "      <td>1</td>\n",
       "      <td>862400.0</td>\n",
       "      <td>3</td>\n",
       "      <td>7570</td>\n",
       "    </tr>\n",
       "    <tr>\n",
       "      <th>1</th>\n",
       "      <td>8</td>\n",
       "      <td>1</td>\n",
       "      <td>0.11</td>\n",
       "      <td>2</td>\n",
       "      <td>38.0</td>\n",
       "      <td>48.0</td>\n",
       "      <td>0.419236</td>\n",
       "      <td>359.34</td>\n",
       "      <td>0</td>\n",
       "      <td>959200.0</td>\n",
       "      <td>4</td>\n",
       "      <td>12128</td>\n",
       "    </tr>\n",
       "    <tr>\n",
       "      <th>2</th>\n",
       "      <td>9</td>\n",
       "      <td>1</td>\n",
       "      <td>0.49</td>\n",
       "      <td>3</td>\n",
       "      <td>32.0</td>\n",
       "      <td>69.0</td>\n",
       "      <td>0.582232</td>\n",
       "      <td>332.84</td>\n",
       "      <td>1</td>\n",
       "      <td>836000.0</td>\n",
       "      <td>3</td>\n",
       "      <td>2181</td>\n",
       "    </tr>\n",
       "    <tr>\n",
       "      <th>3</th>\n",
       "      <td>7</td>\n",
       "      <td>0</td>\n",
       "      <td>0.30</td>\n",
       "      <td>2</td>\n",
       "      <td>31.0</td>\n",
       "      <td>52.0</td>\n",
       "      <td>0.589574</td>\n",
       "      <td>358.28</td>\n",
       "      <td>1</td>\n",
       "      <td>924000.0</td>\n",
       "      <td>3</td>\n",
       "      <td>5946</td>\n",
       "    </tr>\n",
       "    <tr>\n",
       "      <th>4</th>\n",
       "      <td>8</td>\n",
       "      <td>1</td>\n",
       "      <td>0.12</td>\n",
       "      <td>5</td>\n",
       "      <td>13.0</td>\n",
       "      <td>42.0</td>\n",
       "      <td>0.552863</td>\n",
       "      <td>364.64</td>\n",
       "      <td>0</td>\n",
       "      <td>968000.0</td>\n",
       "      <td>2</td>\n",
       "      <td>9054</td>\n",
       "    </tr>\n",
       "  </tbody>\n",
       "</table>\n",
       "</div>"
      ],
      "text/plain": [
       "   Allied_Nations  Diplomatic_Meetings_Set  Percent_Of_Forces_Mobilized  \\\n",
       "0              16                        1                         0.67   \n",
       "1               8                        1                         0.11   \n",
       "2               9                        1                         0.49   \n",
       "3               7                        0                         0.30   \n",
       "4               8                        1                         0.12   \n",
       "\n",
       "   Hostile_Nations  Active_Threats  Inactive_Threats  Citizen_Fear_Index  \\\n",
       "0                3             6.0              25.0            0.787812   \n",
       "1                2            38.0              48.0            0.419236   \n",
       "2                3            32.0              69.0            0.582232   \n",
       "3                2            31.0              52.0            0.589574   \n",
       "4                5            13.0              42.0            0.552863   \n",
       "\n",
       "   Closest_Threat_Distance(km)  Aircraft_Carriers_Responding  \\\n",
       "0                       324.36                             1   \n",
       "1                       359.34                             0   \n",
       "2                       332.84                             1   \n",
       "3                       358.28                             1   \n",
       "4                       364.64                             0   \n",
       "\n",
       "   Troops_Mobilized(thousands)  DEFCON_Level     ID  \n",
       "0                     862400.0             3   7570  \n",
       "1                     959200.0             4  12128  \n",
       "2                     836000.0             3   2181  \n",
       "3                     924000.0             3   5946  \n",
       "4                     968000.0             2   9054  "
      ]
     },
     "execution_count": 4,
     "metadata": {},
     "output_type": "execute_result"
    }
   ],
   "source": [
    "df.head()"
   ]
  },
  {
   "cell_type": "code",
   "execution_count": 5,
   "metadata": {
    "scrolled": true
   },
   "outputs": [
    {
     "name": "stdout",
     "output_type": "stream",
     "text": [
      "<class 'pandas.core.frame.DataFrame'>\n",
      "RangeIndex: 10000 entries, 0 to 9999\n",
      "Data columns (total 12 columns):\n",
      " #   Column                        Non-Null Count  Dtype  \n",
      "---  ------                        --------------  -----  \n",
      " 0   Allied_Nations                10000 non-null  int64  \n",
      " 1   Diplomatic_Meetings_Set       10000 non-null  int64  \n",
      " 2   Percent_Of_Forces_Mobilized   10000 non-null  float64\n",
      " 3   Hostile_Nations               10000 non-null  int64  \n",
      " 4   Active_Threats                10000 non-null  float64\n",
      " 5   Inactive_Threats              10000 non-null  float64\n",
      " 6   Citizen_Fear_Index            10000 non-null  float64\n",
      " 7   Closest_Threat_Distance(km)   10000 non-null  float64\n",
      " 8   Aircraft_Carriers_Responding  10000 non-null  int64  \n",
      " 9   Troops_Mobilized(thousands)   10000 non-null  float64\n",
      " 10  DEFCON_Level                  10000 non-null  int64  \n",
      " 11  ID                            10000 non-null  int64  \n",
      "dtypes: float64(6), int64(6)\n",
      "memory usage: 937.6 KB\n"
     ]
    }
   ],
   "source": [
    "df.info()"
   ]
  },
  {
   "cell_type": "code",
   "execution_count": 6,
   "metadata": {
    "scrolled": true
   },
   "outputs": [],
   "source": [
    "df_dl = df[\"DEFCON_Level\"].value_counts()"
   ]
  },
  {
   "cell_type": "code",
   "execution_count": 7,
   "metadata": {},
   "outputs": [
    {
     "data": {
      "image/png": "[encoded data removed]",
      "text/plain": [
       "<Figure size 432x288 with 1 Axes>"
      ]
     },
     "metadata": {
      "needs_background": "light"
     },
     "output_type": "display_data"
    }
   ],
   "source": [
    "df_dl.plot(kind=\"bar\")\n",
    "plt.title(\"Cantidad de ejemplos por nivel de amenaza\")\n",
    "plt.ylabel(\"Frecuencia\")\n",
    "plt.xlabel(\"DEFCON Level\")\n",
    "plt.show()"
   ]
  },
  {
   "cell_type": "code",
   "execution_count": 8,
   "metadata": {},
   "outputs": [
    {
     "data": {
      "text/plain": [
       "2    42.70\n",
       "3    39.10\n",
       "4    12.12\n",
       "1     4.98\n",
       "5     1.10\n",
       "Name: DEFCON_Level, dtype: float64"
      ]
     },
     "execution_count": 8,
     "metadata": {},
     "output_type": "execute_result"
    }
   ],
   "source": [
    "df_dl/100"
   ]
  },
  {
   "cell_type": "markdown",
   "metadata": {},
   "source": [
    "Vemos que la cantidad de ejemplos por cada nivel de amenaza, no están distribuidos de forma pareja a lo largo del dataset. Por ejemplo, 42,7% de los datos corresponde al defcon 2 mientras que solo el 1,1% es defcon5. \n",
    "Al momento de entrenar nuestros modelos, tendremos que ocuparnos de este problema, de lo contrario, transferiremos este sezgo a nuestras predicciones.\n"
   ]
  },
  {
   "cell_type": "code",
   "execution_count": 9,
   "metadata": {
    "scrolled": true
   },
   "outputs": [
    {
     "data": {
      "text/plain": [
       "1    5233\n",
       "0    4763\n",
       "2       4\n",
       "Name: Diplomatic_Meetings_Set, dtype: int64"
      ]
     },
     "execution_count": 9,
     "metadata": {},
     "output_type": "execute_result"
    }
   ],
   "source": [
    "df[\"Diplomatic_Meetings_Set\"].value_counts()"
   ]
  },
  {
   "cell_type": "code",
   "execution_count": 10,
   "metadata": {},
   "outputs": [],
   "source": [
    "df[\"Diplomatic_Meetings_Set\"] = np.where(df[\"Diplomatic_Meetings_Set\"]>1,1,df[\"Diplomatic_Meetings_Set\"])"
   ]
  },
  {
   "cell_type": "code",
   "execution_count": 11,
   "metadata": {},
   "outputs": [
    {
     "data": {
      "text/plain": [
       "<matplotlib.axes._subplots.AxesSubplot at 0x7f01a6c91630>"
      ]
     },
     "execution_count": 11,
     "metadata": {},
     "output_type": "execute_result"
    },
    {
     "data": {
      "image/png": "[encoded data removed]",
      "text/plain": [
       "<Figure size 432x288 with 1 Axes>"
      ]
     },
     "metadata": {
      "needs_background": "light"
     },
     "output_type": "display_data"
    }
   ],
   "source": [
    "df[\"Diplomatic_Meetings_Set\"].value_counts().plot(kind=\"barh\")"
   ]
  },
  {
   "cell_type": "code",
   "execution_count": 12,
   "metadata": {
    "scrolled": true
   },
   "outputs": [],
   "source": [
    "diplomatic_df = df.groupby(by=\"DEFCON_Level\")[\"Diplomatic_Meetings_Set\"].value_counts().rename(\"count\").to_frame()"
   ]
  },
  {
   "cell_type": "code",
   "execution_count": 13,
   "metadata": {},
   "outputs": [],
   "source": [
    "diplomatic_df = (diplomatic_df/ diplomatic_df.groupby(level=0).sum()) * 100"
   ]
  },
  {
   "cell_type": "code",
   "execution_count": 14,
   "metadata": {
    "scrolled": true
   },
   "outputs": [
    {
     "data": {
      "text/html": [
       "<div>\n",
       "<style scoped>\n",
       "    .dataframe tbody tr th:only-of-type {\n",
       "        vertical-align: middle;\n",
       "    }\n",
       "\n",
       "    .dataframe tbody tr th {\n",
       "        vertical-align: top;\n",
       "    }\n",
       "\n",
       "    .dataframe thead th {\n",
       "        text-align: right;\n",
       "    }\n",
       "</style>\n",
       "<table border=\"1\" class=\"dataframe\">\n",
       "  <thead>\n",
       "    <tr style=\"text-align: right;\">\n",
       "      <th></th>\n",
       "      <th></th>\n",
       "      <th>count</th>\n",
       "    </tr>\n",
       "    <tr>\n",
       "      <th>DEFCON_Level</th>\n",
       "      <th>Diplomatic_Meetings_Set</th>\n",
       "      <th></th>\n",
       "    </tr>\n",
       "  </thead>\n",
       "  <tbody>\n",
       "    <tr>\n",
       "      <th rowspan=\"2\" valign=\"top\">1</th>\n",
       "      <th>1</th>\n",
       "      <td>75.301205</td>\n",
       "    </tr>\n",
       "    <tr>\n",
       "      <th>0</th>\n",
       "      <td>24.698795</td>\n",
       "    </tr>\n",
       "    <tr>\n",
       "      <th rowspan=\"2\" valign=\"top\">2</th>\n",
       "      <th>1</th>\n",
       "      <td>63.255269</td>\n",
       "    </tr>\n",
       "    <tr>\n",
       "      <th>0</th>\n",
       "      <td>36.744731</td>\n",
       "    </tr>\n",
       "    <tr>\n",
       "      <th rowspan=\"2\" valign=\"top\">3</th>\n",
       "      <th>0</th>\n",
       "      <td>52.890026</td>\n",
       "    </tr>\n",
       "    <tr>\n",
       "      <th>1</th>\n",
       "      <td>47.109974</td>\n",
       "    </tr>\n",
       "    <tr>\n",
       "      <th rowspan=\"2\" valign=\"top\">4</th>\n",
       "      <th>0</th>\n",
       "      <td>75.247525</td>\n",
       "    </tr>\n",
       "    <tr>\n",
       "      <th>1</th>\n",
       "      <td>24.752475</td>\n",
       "    </tr>\n",
       "    <tr>\n",
       "      <th rowspan=\"2\" valign=\"top\">5</th>\n",
       "      <th>0</th>\n",
       "      <td>82.727273</td>\n",
       "    </tr>\n",
       "    <tr>\n",
       "      <th>1</th>\n",
       "      <td>17.272727</td>\n",
       "    </tr>\n",
       "  </tbody>\n",
       "</table>\n",
       "</div>"
      ],
      "text/plain": [
       "                                          count\n",
       "DEFCON_Level Diplomatic_Meetings_Set           \n",
       "1            1                        75.301205\n",
       "             0                        24.698795\n",
       "2            1                        63.255269\n",
       "             0                        36.744731\n",
       "3            0                        52.890026\n",
       "             1                        47.109974\n",
       "4            0                        75.247525\n",
       "             1                        24.752475\n",
       "5            0                        82.727273\n",
       "             1                        17.272727"
      ]
     },
     "execution_count": 14,
     "metadata": {},
     "output_type": "execute_result"
    }
   ],
   "source": [
    "diplomatic_df"
   ]
  },
  {
   "cell_type": "code",
   "execution_count": 15,
   "metadata": {},
   "outputs": [
    {
     "data": {
      "image/png": "[encoded data removed]",
      "text/plain": [
       "<Figure size 432x288 with 1 Axes>"
      ]
     },
     "metadata": {
      "needs_background": "light"
     },
     "output_type": "display_data"
    }
   ],
   "source": [
    "diplomatic_df.unstack().plot(kind='bar',stacked=True)\n",
    "plt.legend([\"No hubo reunión\", \"Hubo reunión\"])\n",
    "plt.title(\"Porcentaje de veces que hubo reunión frente a las que no las hubo\")\n",
    "plt.ylabel(\"Porcentaje\")\n",
    "plt.show()"
   ]
  },
  {
   "cell_type": "markdown",
   "metadata": {},
   "source": [
    "Al parecer, hubo o no hubo una reunión diplomática. Solo 4 casos en los que hubo más de 1, en 10k de filas, es un outlier. Por simplicidad, lo voy a remplazar por 1. Vemos que en nuestro dataset, hay más casos en los que si hubo una reunión pero no nos dice nada sobre lo que querémos predecir: el próximo defcon level.\n",
    "Para poder extrarle mayor información a este dato debo agrupar por nivel de amenaza.\n",
    "El próximo gráfico es muy enriquecedor, queda claro que a mayor nivel de amenaza, las reuniones son cada vez menores.\n",
    "Siendo que, en el menor de nivel de amenaza, 75% de la veces hubo una reunión para tratar de mitigar el conflicto y en el mayor nivel de amenaza 82% de las veces, no la hubo. \n",
    "\n",
    "*** IDEA GENERAL, REDACTAR MEJOR Y AGREGAR MÁS CONTENIDO ***"
   ]
  },
  {
   "cell_type": "markdown",
   "metadata": {},
   "source": [
    "## Allied_Nations"
   ]
  },
  {
   "cell_type": "code",
   "execution_count": 16,
   "metadata": {},
   "outputs": [
    {
     "data": {
      "text/plain": [
       "15       7\n",
       "16      27\n",
       "14      28\n",
       "13     144\n",
       "5      179\n",
       "11     451\n",
       "12     475\n",
       "6      872\n",
       "10    1052\n",
       "9     1447\n",
       "7     2498\n",
       "8     2820\n",
       "Name: Allied_Nations, dtype: int64"
      ]
     },
     "execution_count": 16,
     "metadata": {},
     "output_type": "execute_result"
    }
   ],
   "source": [
    "df[\"Allied_Nations\"].value_counts().sort_values()"
   ]
  },
  {
   "cell_type": "code",
   "execution_count": 17,
   "metadata": {},
   "outputs": [
    {
     "data": {
      "text/plain": [
       "count    10000.000000\n",
       "mean         8.317800\n",
       "std          1.748802\n",
       "min          5.000000\n",
       "25%          7.000000\n",
       "50%          8.000000\n",
       "75%          9.000000\n",
       "max         16.000000\n",
       "Name: Allied_Nations, dtype: float64"
      ]
     },
     "execution_count": 17,
     "metadata": {},
     "output_type": "execute_result"
    }
   ],
   "source": [
    "df[\"Allied_Nations\"].describe()"
   ]
  },
  {
   "cell_type": "markdown",
   "metadata": {},
   "source": [
    "Vemos que en nuestro dataset, la cantidad mínima de naciones aliadas es de 5 y el máximo  de 16. \n",
    "Siendo 8 la moda y la mediana, 8,31 el promedio y 1,74 el desvío standard. "
   ]
  },
  {
   "cell_type": "code",
   "execution_count": 18,
   "metadata": {
    "scrolled": true
   },
   "outputs": [
    {
     "data": {
      "text/plain": [
       "<matplotlib.axes._subplots.AxesSubplot at 0x7f01a653f6a0>"
      ]
     },
     "execution_count": 18,
     "metadata": {},
     "output_type": "execute_result"
    },
    {
     "data": {
      "image/png": "[encoded data removed]",
      "text/plain": [
       "<Figure size 432x288 with 1 Axes>"
      ]
     },
     "metadata": {
      "needs_background": "light"
     },
     "output_type": "display_data"
    }
   ],
   "source": [
    "df[\"Allied_Nations\"].plot(kind=\"hist\")"
   ]
  },
  {
   "cell_type": "code",
   "execution_count": 19,
   "metadata": {},
   "outputs": [
    {
     "data": {
      "text/plain": [
       "<matplotlib.axes._subplots.AxesSubplot at 0x7f01a65ac7f0>"
      ]
     },
     "execution_count": 19,
     "metadata": {},
     "output_type": "execute_result"
    },
    {
     "data": {
      "image/png": "[encoded data removed]",
      "text/plain": [
       "<Figure size 432x288 with 1 Axes>"
      ]
     },
     "metadata": {
      "needs_background": "light"
     },
     "output_type": "display_data"
    }
   ],
   "source": [
    "df.boxplot(column=\"Allied_Nations\")"
   ]
  },
  {
   "cell_type": "code",
   "execution_count": 20,
   "metadata": {},
   "outputs": [
    {
     "data": {
      "image/png": "[encoded data removed]",
      "text/plain": [
       "<Figure size 432x288 with 1 Axes>"
      ]
     },
     "metadata": {
      "needs_background": "light"
     },
     "output_type": "display_data"
    }
   ],
   "source": [
    "df.boxplot(column=\"Allied_Nations\", by=\"DEFCON_Level\")\n",
    "plt.title(\"Naciones aliadas por DEFCON Level\")\n",
    "plt.xlabel(\"DEFCON Level\")\n",
    "plt.ylabel(\"Cantidad de aliados\")\n",
    "plt.show()"
   ]
  },
  {
   "cell_type": "markdown",
   "metadata": {},
   "source": [
    "A simple vista, vemos que hay una asimetría positiva, con una cola hacia la derecha.\n",
    "Entre 7 y 9, se concentra el 50% de los datos, mientras que el 50% restante varía entre 8 y 16, lo que explica la cola larga en el histograma y el bigote superior, esos valores tienen una dispersión mucho más amplia.\n",
    "El box plot, nos muestra que una cantidad mayor a 13 naciones aliadas, es un valor atípico.\n",
    "Analizar esta variable aislada, no nos brinda mucha información nueva. Por lo que agrupamos por nivel defcon.\n",
    "A simple vista, no parece ser un gran predictor esta variable. Las cajas por nivel, no muestran un cambio tan significativo, por lo menos hasta el 3er nivel DEFCON.\n",
    "El 4 y el 5, vemos que hay muchísima dispersión a partir del 2do cuartil. EL 50% superior de los datos, varía entre 8 y 16, mientras que el otro 50% entre 4(5) y 16. También es destacable que solo en estos niveles, el 75% de los datos, tienen valores menores a 10, mientras que en los primeros 3 niveles, tiene valores menores a 9.\n",
    "\n",
    "No parece haber una correlación muy marcada entre DEFCON_Level y Allied_Nations, si bien es cierto que en los 2 niveles más altos, cantidades altas de aliados dejan de ser valores atípicos, la mediana y la media son prácticamente las mismas para cada nivel de amenaza, indicando que el DEFCON_Level no depende de la cantidad de aliados.\n",
    "\n",
    "*** RETOCAR EL % DE DATOS ENTRE LOS VALORES ***"
   ]
  },
  {
   "cell_type": "markdown",
   "metadata": {},
   "source": [
    "## Percent_Of_Forces_Mobilized"
   ]
  },
  {
   "cell_type": "code",
   "execution_count": 21,
   "metadata": {},
   "outputs": [
    {
     "data": {
      "text/plain": [
       "0.00    898\n",
       "0.49    416\n",
       "0.02    297\n",
       "0.24    289\n",
       "0.08    252\n",
       "       ... \n",
       "0.62      8\n",
       "0.79      7\n",
       "0.71      6\n",
       "0.75      6\n",
       "1.00      6\n",
       "Name: Percent_Of_Forces_Mobilized, Length: 80, dtype: int64"
      ]
     },
     "execution_count": 21,
     "metadata": {},
     "output_type": "execute_result"
    }
   ],
   "source": [
    "df[\"Percent_Of_Forces_Mobilized\"].value_counts()"
   ]
  },
  {
   "cell_type": "code",
   "execution_count": 22,
   "metadata": {},
   "outputs": [
    {
     "data": {
      "text/plain": [
       "count    10000.000000\n",
       "mean         0.270548\n",
       "std          0.196434\n",
       "min          0.000000\n",
       "25%          0.090000\n",
       "50%          0.260000\n",
       "75%          0.430000\n",
       "max          1.000000\n",
       "Name: Percent_Of_Forces_Mobilized, dtype: float64"
      ]
     },
     "execution_count": 22,
     "metadata": {},
     "output_type": "execute_result"
    }
   ],
   "source": [
    "df[\"Percent_Of_Forces_Mobilized\"].describe()"
   ]
  },
  {
   "cell_type": "code",
   "execution_count": 23,
   "metadata": {},
   "outputs": [
    {
     "data": {
      "text/plain": [
       "<matplotlib.axes._subplots.AxesSubplot at 0x7f01a643c320>"
      ]
     },
     "execution_count": 23,
     "metadata": {},
     "output_type": "execute_result"
    },
    {
     "data": {
      "image/png": "[encoded data removed]",
      "text/plain": [
       "<Figure size 432x288 with 1 Axes>"
      ]
     },
     "metadata": {
      "needs_background": "light"
     },
     "output_type": "display_data"
    }
   ],
   "source": [
    "df.boxplot(column=\"Percent_Of_Forces_Mobilized\")"
   ]
  },
  {
   "cell_type": "code",
   "execution_count": 24,
   "metadata": {},
   "outputs": [
    {
     "data": {
      "text/plain": [
       "<matplotlib.axes._subplots.AxesSubplot at 0x7f01a63fdda0>"
      ]
     },
     "execution_count": 24,
     "metadata": {},
     "output_type": "execute_result"
    },
    {
     "data": {
      "image/png": "[encoded data removed]",
      "text/plain": [
       "<Figure size 432x288 with 1 Axes>"
      ]
     },
     "metadata": {
      "needs_background": "light"
     },
     "output_type": "display_data"
    }
   ],
   "source": [
    "df[\"Percent_Of_Forces_Mobilized\"].plot(kind=\"hist\")"
   ]
  },
  {
   "cell_type": "markdown",
   "metadata": {},
   "source": [
    "Es una variable cuantitativa, continua. Con una moda en 0, lo que significa que no se movilizaron tropas y un máximo en 1, siendo todo lo contrario. \n",
    "Este valor lo toman solo 6 observaciones, que parecen ser outliers y lo confirmamos con el diagrama de cajas. Los valores que superan el tercer quartil(0.43) tienen una dispersión relativamente alta, dando lugar a un bigote largo en el extremo superior. No nos aporta mucha información.\n",
    "Por otro lado la media se ubica en 0.27 y la std 0.196434, que explica la alta dispersión de los datos.\n",
    "\n",
    "Agrupar por nivel de amenaza, parece mucho más enriquecedor. Vemos que tanto la media como la medidana, aumenta por cada nivel de amenaza. Confirmando al sentido común, que nos dice que a mayor nivel de amenaza debería haber un mayor moviemiento de tropas, en promedio.\n",
    "También confirmamos que para todos los niveles 1 es un valor atípico, ni siquiera en el último nivel se mueven más del 80% de las tropas. \n",
    "\n",
    "Para el primer nivel, movilizar más del 60% de las tropas, es algo atípico. Siendo la media del 18% y el 75% de los datos no supera el 30%.\n",
    "En el segundo y el tercer nivel, vemos las cajas y los rangos intercuartílicos más altos, indicando que son niveles dónde el % de movilización de las tropas, varía muchísimo.\n",
    "Los últimos niveles, tienen rangos intercuartílicos mucho más acotados, siendo q1 ~0.25 y q3 ~ 0.5. Indicando que el 50% de los datos, tiene un desvío más pequeño.\n"
   ]
  },
  {
   "cell_type": "code",
   "execution_count": 25,
   "metadata": {},
   "outputs": [
    {
     "data": {
      "text/plain": [
       "DEFCON_Level\n",
       "1    0.182088\n",
       "2    0.252555\n",
       "3    0.272670\n",
       "4    0.351898\n",
       "5    0.397727\n",
       "Name: Percent_Of_Forces_Mobilized, dtype: float64"
      ]
     },
     "execution_count": 25,
     "metadata": {},
     "output_type": "execute_result"
    }
   ],
   "source": [
    "df.groupby(by=\"DEFCON_Level\")[\"Percent_Of_Forces_Mobilized\"].mean()"
   ]
  },
  {
   "cell_type": "code",
   "execution_count": 26,
   "metadata": {},
   "outputs": [
    {
     "data": {
      "image/png": "[encoded data removed]",
      "text/plain": [
       "<Figure size 576x576 with 1 Axes>"
      ]
     },
     "metadata": {
      "needs_background": "light"
     },
     "output_type": "display_data"
    }
   ],
   "source": [
    "df.boxplot(column=\"Percent_Of_Forces_Mobilized\", by=\"DEFCON_Level\",figsize=(8,8))\n",
    "plt.title(\"Percent_Of_Forces_Mobilized por DEFCON Level\")\n",
    "plt.xlabel(\"DEFCON Level\")\n",
    "plt.ylabel(\"Percent_Of_Forces_Mobilized\")\n",
    "plt.show()"
   ]
  },
  {
   "cell_type": "code",
   "execution_count": 27,
   "metadata": {},
   "outputs": [
    {
     "data": {
      "text/plain": [
       "array([[<matplotlib.axes._subplots.AxesSubplot object at 0x7f01a6c913c8>,\n",
       "        <matplotlib.axes._subplots.AxesSubplot object at 0x7f01a626b208>],\n",
       "       [<matplotlib.axes._subplots.AxesSubplot object at 0x7f01a621b780>,\n",
       "        <matplotlib.axes._subplots.AxesSubplot object at 0x7f01a61ced30>],\n",
       "       [<matplotlib.axes._subplots.AxesSubplot object at 0x7f01a618c320>,\n",
       "        <matplotlib.axes._subplots.AxesSubplot object at 0x7f01a61bc8d0>]],\n",
       "      dtype=object)"
      ]
     },
     "execution_count": 27,
     "metadata": {},
     "output_type": "execute_result"
    },
    {
     "data": {
      "image/png": "[encoded data removed]",
      "text/plain": [
       "<Figure size 432x288 with 6 Axes>"
      ]
     },
     "metadata": {
      "needs_background": "light"
     },
     "output_type": "display_data"
    }
   ],
   "source": [
    "df[\"Percent_Of_Forces_Mobilized\"].hist(by=df['DEFCON_Level'])"
   ]
  },
  {
   "cell_type": "markdown",
   "metadata": {},
   "source": [
    "## Hostile_Nations"
   ]
  },
  {
   "cell_type": "code",
   "execution_count": 28,
   "metadata": {},
   "outputs": [
    {
     "data": {
      "text/plain": [
       "16       6\n",
       "15       7\n",
       "13       9\n",
       "14      11\n",
       "11      11\n",
       "9       30\n",
       "7       54\n",
       "8       73\n",
       "5      141\n",
       "6      203\n",
       "1      306\n",
       "4      432\n",
       "3     1807\n",
       "2     6910\n",
       "Name: Hostile_Nations, dtype: int64"
      ]
     },
     "execution_count": 28,
     "metadata": {},
     "output_type": "execute_result"
    }
   ],
   "source": [
    "df[\"Hostile_Nations\"].value_counts().sort_values()"
   ]
  },
  {
   "cell_type": "code",
   "execution_count": 29,
   "metadata": {},
   "outputs": [
    {
     "data": {
      "text/plain": [
       "count    10000.00000\n",
       "mean         2.50230\n",
       "std          1.31178\n",
       "min          1.00000\n",
       "25%          2.00000\n",
       "50%          2.00000\n",
       "75%          3.00000\n",
       "max         16.00000\n",
       "Name: Hostile_Nations, dtype: float64"
      ]
     },
     "execution_count": 29,
     "metadata": {},
     "output_type": "execute_result"
    }
   ],
   "source": [
    "df[\"Hostile_Nations\"].describe()"
   ]
  },
  {
   "cell_type": "code",
   "execution_count": 30,
   "metadata": {},
   "outputs": [
    {
     "data": {
      "text/plain": [
       "<matplotlib.axes._subplots.AxesSubplot at 0x7f01a60c2828>"
      ]
     },
     "execution_count": 30,
     "metadata": {},
     "output_type": "execute_result"
    },
    {
     "data": {
      "image/png": "[encoded data removed]",
      "text/plain": [
       "<Figure size 432x288 with 1 Axes>"
      ]
     },
     "metadata": {
      "needs_background": "light"
     },
     "output_type": "display_data"
    }
   ],
   "source": [
    "df[\"Hostile_Nations\"].hist()"
   ]
  },
  {
   "cell_type": "code",
   "execution_count": 31,
   "metadata": {},
   "outputs": [
    {
     "data": {
      "image/png": "[encoded data removed]",
      "text/plain": [
       "<Figure size 576x576 with 1 Axes>"
      ]
     },
     "metadata": {
      "needs_background": "light"
     },
     "output_type": "display_data"
    }
   ],
   "source": [
    "df.boxplot(column=\"Hostile_Nations\", by=\"DEFCON_Level\",figsize=(8,8))\n",
    "plt.title(\"Hostile_Nations por DEFCON Level\")\n",
    "plt.xlabel(\"DEFCON Level\")\n",
    "plt.ylabel(\"Hostile_Nations\")\n",
    "plt.show()"
   ]
  },
  {
   "cell_type": "markdown",
   "metadata": {},
   "source": [
    "Vemos que Hostile_Nations tiene una asimentría positiva muy marcada, dado que el 75% de los datos están por debajo de 3 unidades, mientras que hay observaciones con valores de hasta 16, dando como resultado una cola muy larga hacia la derecha.\n",
    "Cuando analizamos esta variable contra DEFCON_Level, vemos la mismas cajas por cada nivel, cantidades mayores a 4 enemigos, parecen ser outliers para todos los niveles de amenaza.\n",
    "No logro sacar ninguna conclusión de este predictor, al parecer, no parece haber ninguna relación entre la calidad de Hostile_Nations y el DEFCON_Level."
   ]
  },
  {
   "cell_type": "markdown",
   "metadata": {},
   "source": [
    "## Active_Threats"
   ]
  },
  {
   "cell_type": "code",
   "execution_count": 32,
   "metadata": {},
   "outputs": [
    {
     "data": {
      "text/plain": [
       "count    10000.000000\n",
       "mean        15.754300\n",
       "std         10.388906\n",
       "min          1.000000\n",
       "25%          7.000000\n",
       "50%         13.000000\n",
       "75%         21.000000\n",
       "max         72.000000\n",
       "Name: Active_Threats, dtype: float64"
      ]
     },
     "execution_count": 32,
     "metadata": {},
     "output_type": "execute_result"
    }
   ],
   "source": [
    "df[\"Active_Threats\"].describe()"
   ]
  },
  {
   "cell_type": "code",
   "execution_count": 33,
   "metadata": {},
   "outputs": [
    {
     "data": {
      "text/plain": [
       "<matplotlib.axes._subplots.AxesSubplot at 0x7f01a5f394a8>"
      ]
     },
     "execution_count": 33,
     "metadata": {},
     "output_type": "execute_result"
    },
    {
     "data": {
      "image/png": "[encoded data removed]",
      "text/plain": [
       "<Figure size 432x288 with 1 Axes>"
      ]
     },
     "metadata": {
      "needs_background": "light"
     },
     "output_type": "display_data"
    }
   ],
   "source": [
    "df[\"Active_Threats\"].plot(kind=\"hist\")"
   ]
  },
  {
   "cell_type": "code",
   "execution_count": 34,
   "metadata": {},
   "outputs": [
    {
     "data": {
      "image/png": "[encoded data removed]",
      "text/plain": [
       "<Figure size 576x576 with 1 Axes>"
      ]
     },
     "metadata": {
      "needs_background": "light"
     },
     "output_type": "display_data"
    }
   ],
   "source": [
    "df.boxplot(column=\"Active_Threats\", by=\"DEFCON_Level\",figsize=(8,8))\n",
    "plt.title(\"Active_Threats por DEFCON Level\")\n",
    "plt.xlabel(\"DEFCON Level\")\n",
    "plt.ylabel(\"Active_Threats\")\n",
    "plt.show()"
   ]
  },
  {
   "cell_type": "markdown",
   "metadata": {},
   "source": [
    "## Inactive_Threats"
   ]
  },
  {
   "cell_type": "code",
   "execution_count": 35,
   "metadata": {},
   "outputs": [
    {
     "data": {
      "text/plain": [
       "count    10000.000000\n",
       "mean        46.534600\n",
       "std         34.012649\n",
       "min          6.000000\n",
       "25%         21.000000\n",
       "50%         37.000000\n",
       "75%         62.000000\n",
       "max        289.000000\n",
       "Name: Inactive_Threats, dtype: float64"
      ]
     },
     "execution_count": 35,
     "metadata": {},
     "output_type": "execute_result"
    }
   ],
   "source": [
    "df[\"Inactive_Threats\"].describe()"
   ]
  },
  {
   "cell_type": "code",
   "execution_count": 36,
   "metadata": {},
   "outputs": [
    {
     "data": {
      "text/plain": [
       "142.0      4\n",
       "153.0      5\n",
       "155.0      5\n",
       "140.0      6\n",
       "128.0      6\n",
       "        ... \n",
       "20.0     212\n",
       "12.0     214\n",
       "14.0     229\n",
       "24.0     239\n",
       "28.0     273\n",
       "Name: Inactive_Threats, Length: 144, dtype: int64"
      ]
     },
     "execution_count": 36,
     "metadata": {},
     "output_type": "execute_result"
    }
   ],
   "source": [
    "df[\"Inactive_Threats\"].value_counts().sort_values()"
   ]
  },
  {
   "cell_type": "code",
   "execution_count": 37,
   "metadata": {},
   "outputs": [
    {
     "data": {
      "text/plain": [
       "<matplotlib.axes._subplots.AxesSubplot at 0x7f01a5df6f28>"
      ]
     },
     "execution_count": 37,
     "metadata": {},
     "output_type": "execute_result"
    },
    {
     "data": {
      "image/png": "[encoded data removed]",
      "text/plain": [
       "<Figure size 432x288 with 1 Axes>"
      ]
     },
     "metadata": {
      "needs_background": "light"
     },
     "output_type": "display_data"
    }
   ],
   "source": [
    "df[\"Inactive_Threats\"].plot(kind=\"hist\")"
   ]
  },
  {
   "cell_type": "code",
   "execution_count": 38,
   "metadata": {},
   "outputs": [
    {
     "data": {
      "text/plain": [
       "<matplotlib.axes._subplots.AxesSubplot at 0x7f01a5e57f60>"
      ]
     },
     "execution_count": 38,
     "metadata": {},
     "output_type": "execute_result"
    },
    {
     "data": {
      "image/png": "[encoded data removed]",
      "text/plain": [
       "<Figure size 432x288 with 1 Axes>"
      ]
     },
     "metadata": {
      "needs_background": "light"
     },
     "output_type": "display_data"
    }
   ],
   "source": [
    "df.boxplot(column=[\"Inactive_Threats\"], by=[\"DEFCON_Level\"])"
   ]
  },
  {
   "cell_type": "markdown",
   "metadata": {},
   "source": [
    "## Citizen_Fear_Index"
   ]
  },
  {
   "cell_type": "code",
   "execution_count": 39,
   "metadata": {},
   "outputs": [
    {
     "data": {
      "text/plain": [
       "count    10000.000000\n",
       "mean         0.486639\n",
       "std          0.134552\n",
       "min          0.000000\n",
       "25%          0.406021\n",
       "50%          0.486784\n",
       "75%          0.567548\n",
       "max          1.000000\n",
       "Name: Citizen_Fear_Index, dtype: float64"
      ]
     },
     "execution_count": 39,
     "metadata": {},
     "output_type": "execute_result"
    }
   ],
   "source": [
    "df[\"Citizen_Fear_Index\"].describe()"
   ]
  },
  {
   "cell_type": "code",
   "execution_count": 40,
   "metadata": {},
   "outputs": [
    {
     "data": {
      "text/plain": [
       "<matplotlib.axes._subplots.AxesSubplot at 0x7f01a6516278>"
      ]
     },
     "execution_count": 40,
     "metadata": {},
     "output_type": "execute_result"
    },
    {
     "data": {
      "image/png": "[encoded data removed]",
      "text/plain": [
       "<Figure size 432x288 with 1 Axes>"
      ]
     },
     "metadata": {
      "needs_background": "light"
     },
     "output_type": "display_data"
    }
   ],
   "source": [
    "df[\"Citizen_Fear_Index\"].hist()"
   ]
  },
  {
   "cell_type": "code",
   "execution_count": 41,
   "metadata": {},
   "outputs": [
    {
     "data": {
      "text/plain": [
       "<matplotlib.axes._subplots.AxesSubplot at 0x7f01a6537748>"
      ]
     },
     "execution_count": 41,
     "metadata": {},
     "output_type": "execute_result"
    },
    {
     "data": {
      "image/png": "[encoded data removed]",
      "text/plain": [
       "<Figure size 432x288 with 1 Axes>"
      ]
     },
     "metadata": {
      "needs_background": "light"
     },
     "output_type": "display_data"
    }
   ],
   "source": [
    "df.boxplot(column=[\"Citizen_Fear_Index\"], by=[\"DEFCON_Level\"])"
   ]
  },
  {
   "cell_type": "code",
   "execution_count": 42,
   "metadata": {},
   "outputs": [
    {
     "data": {
      "text/plain": [
       "DEFCON_Level\n",
       "1    0.480910\n",
       "2    0.508811\n",
       "3    0.472100\n",
       "4    0.420705\n",
       "5    0.398311\n",
       "Name: Citizen_Fear_Index, dtype: float64"
      ]
     },
     "execution_count": 42,
     "metadata": {},
     "output_type": "execute_result"
    }
   ],
   "source": [
    "df.groupby(by=[\"DEFCON_Level\"])[\"Citizen_Fear_Index\"].median()"
   ]
  },
  {
   "cell_type": "markdown",
   "metadata": {},
   "source": [
    "Es muy raro lo que pasa con esta variable. El sentido común dice que debería haber mayor nivel de miedo a mayor nivel de amenaza. Sin embargo, el promedio de esta variable disminuye a medida que aumenta el nivel de amenaza, lo mismo sucede con la mediana. \n",
    "Cuando hacemos un boxplot por nivel de amenaza, vemos que hay mucha cantidad de outliers en los primeros 4 niveles, que por definición, se sabe que \"distorcionan\" los promedios.\n",
    "Cuando realizamos un histograma vemos que esta variable sigue una distrubución normal."
   ]
  },
  {
   "cell_type": "markdown",
   "metadata": {},
   "source": [
    "## Closest_Threat_Distance(km)"
   ]
  },
  {
   "cell_type": "code",
   "execution_count": 43,
   "metadata": {},
   "outputs": [
    {
     "data": {
      "text/plain": [
       "count    10000.000000\n",
       "mean       350.885758\n",
       "std         16.285744\n",
       "min        290.440000\n",
       "25%        340.260000\n",
       "50%        350.860000\n",
       "75%        360.400000\n",
       "max        425.060000\n",
       "Name: Closest_Threat_Distance(km), dtype: float64"
      ]
     },
     "execution_count": 43,
     "metadata": {},
     "output_type": "execute_result"
    }
   ],
   "source": [
    "df[\"Closest_Threat_Distance(km)\"].describe()"
   ]
  },
  {
   "cell_type": "code",
   "execution_count": 44,
   "metadata": {},
   "outputs": [
    {
     "data": {
      "text/plain": [
       "<matplotlib.axes._subplots.AxesSubplot at 0x7f01a5da2c50>"
      ]
     },
     "execution_count": 44,
     "metadata": {},
     "output_type": "execute_result"
    },
    {
     "data": {
      "image/png": "[encoded data removed]",
      "text/plain": [
       "<Figure size 432x288 with 1 Axes>"
      ]
     },
     "metadata": {
      "needs_background": "light"
     },
     "output_type": "display_data"
    }
   ],
   "source": [
    "df[\"Closest_Threat_Distance(km)\"].plot(kind=\"hist\")"
   ]
  },
  {
   "cell_type": "code",
   "execution_count": 45,
   "metadata": {},
   "outputs": [
    {
     "data": {
      "text/plain": [
       "<matplotlib.axes._subplots.AxesSubplot at 0x7f01a62d1160>"
      ]
     },
     "execution_count": 45,
     "metadata": {},
     "output_type": "execute_result"
    },
    {
     "data": {
      "image/png": "[encoded data removed]",
      "text/plain": [
       "<Figure size 432x288 with 1 Axes>"
      ]
     },
     "metadata": {
      "needs_background": "light"
     },
     "output_type": "display_data"
    }
   ],
   "source": [
    "df.boxplot(column=[\"Closest_Threat_Distance(km)\"], by=[\"DEFCON_Level\"])"
   ]
  },
  {
   "cell_type": "code",
   "execution_count": 46,
   "metadata": {},
   "outputs": [
    {
     "data": {
      "text/plain": [
       "DEFCON_Level\n",
       "1    355.406506\n",
       "2    349.848904\n",
       "3    352.283545\n",
       "4    348.635050\n",
       "5    345.781636\n",
       "Name: Closest_Threat_Distance(km), dtype: float64"
      ]
     },
     "execution_count": 46,
     "metadata": {},
     "output_type": "execute_result"
    }
   ],
   "source": [
    "df.groupby(\"DEFCON_Level\")[\"Closest_Threat_Distance(km)\"].mean()"
   ]
  },
  {
   "cell_type": "markdown",
   "metadata": {},
   "source": [
    "Al parecer, una distancia menor, en promedio, está asociada a un nivel mayor de amenaza. Las estadísticas parecen estar un poco distorcionadas por la cantidad de outliers en los niveles intermedios.\n",
    "Además, por la diferencia tan grande en entre los episodios defcon5 con el resto, dificula sacar conclusiones claras."
   ]
  },
  {
   "cell_type": "markdown",
   "metadata": {},
   "source": [
    "## Aircraft_Carriers_Responding"
   ]
  },
  {
   "cell_type": "code",
   "execution_count": 47,
   "metadata": {},
   "outputs": [
    {
     "data": {
      "text/plain": [
       "1    8799\n",
       "0    1144\n",
       "2      57\n",
       "Name: Aircraft_Carriers_Responding, dtype: int64"
      ]
     },
     "execution_count": 47,
     "metadata": {},
     "output_type": "execute_result"
    }
   ],
   "source": [
    "df[\"Aircraft_Carriers_Responding\"].value_counts()"
   ]
  },
  {
   "cell_type": "code",
   "execution_count": 49,
   "metadata": {},
   "outputs": [
    {
     "data": {
      "text/plain": [
       "1    87.99\n",
       "0    11.44\n",
       "2     0.57\n",
       "Name: Aircraft_Carriers_Responding, dtype: float64"
      ]
     },
     "execution_count": 49,
     "metadata": {},
     "output_type": "execute_result"
    }
   ],
   "source": [
    "pct_air = df[\"Aircraft_Carriers_Responding\"].value_counts()/100\n",
    "pct_air"
   ]
  },
  {
   "cell_type": "code",
   "execution_count": 50,
   "metadata": {},
   "outputs": [
    {
     "data": {
      "text/plain": [
       "<matplotlib.axes._subplots.AxesSubplot at 0x7f01a5eb0b38>"
      ]
     },
     "execution_count": 50,
     "metadata": {},
     "output_type": "execute_result"
    },
    {
     "data": {
      "image/png": "[encoded data removed]",
      "text/plain": [
       "<Figure size 432x288 with 1 Axes>"
      ]
     },
     "metadata": {
      "needs_background": "light"
     },
     "output_type": "display_data"
    }
   ],
   "source": [
    "pct_air.plot(kind=\"bar\")"
   ]
  },
  {
   "cell_type": "code",
   "execution_count": 51,
   "metadata": {},
   "outputs": [],
   "source": [
    "df_air = df.groupby(\"DEFCON_Level\")[\"Aircraft_Carriers_Responding\"].value_counts().rename(\"count\").to_frame()"
   ]
  },
  {
   "cell_type": "code",
   "execution_count": 52,
   "metadata": {},
   "outputs": [],
   "source": [
    "df_air = df_air/(df_air.groupby(level=0).sum()) * 100"
   ]
  },
  {
   "cell_type": "code",
   "execution_count": 53,
   "metadata": {},
   "outputs": [
    {
     "data": {
      "text/html": [
       "<div>\n",
       "<style scoped>\n",
       "    .dataframe tbody tr th:only-of-type {\n",
       "        vertical-align: middle;\n",
       "    }\n",
       "\n",
       "    .dataframe tbody tr th {\n",
       "        vertical-align: top;\n",
       "    }\n",
       "\n",
       "    .dataframe thead th {\n",
       "        text-align: right;\n",
       "    }\n",
       "</style>\n",
       "<table border=\"1\" class=\"dataframe\">\n",
       "  <thead>\n",
       "    <tr style=\"text-align: right;\">\n",
       "      <th></th>\n",
       "      <th></th>\n",
       "      <th>count</th>\n",
       "    </tr>\n",
       "    <tr>\n",
       "      <th>DEFCON_Level</th>\n",
       "      <th>Aircraft_Carriers_Responding</th>\n",
       "      <th></th>\n",
       "    </tr>\n",
       "  </thead>\n",
       "  <tbody>\n",
       "    <tr>\n",
       "      <th rowspan=\"3\" valign=\"top\">1</th>\n",
       "      <th>1</th>\n",
       "      <td>74.899598</td>\n",
       "    </tr>\n",
       "    <tr>\n",
       "      <th>0</th>\n",
       "      <td>24.497992</td>\n",
       "    </tr>\n",
       "    <tr>\n",
       "      <th>2</th>\n",
       "      <td>0.602410</td>\n",
       "    </tr>\n",
       "    <tr>\n",
       "      <th rowspan=\"3\" valign=\"top\">2</th>\n",
       "      <th>1</th>\n",
       "      <td>84.215457</td>\n",
       "    </tr>\n",
       "    <tr>\n",
       "      <th>0</th>\n",
       "      <td>15.105386</td>\n",
       "    </tr>\n",
       "    <tr>\n",
       "      <th>2</th>\n",
       "      <td>0.679157</td>\n",
       "    </tr>\n",
       "    <tr>\n",
       "      <th rowspan=\"3\" valign=\"top\">3</th>\n",
       "      <th>1</th>\n",
       "      <td>92.378517</td>\n",
       "    </tr>\n",
       "    <tr>\n",
       "      <th>0</th>\n",
       "      <td>7.161125</td>\n",
       "    </tr>\n",
       "    <tr>\n",
       "      <th>2</th>\n",
       "      <td>0.460358</td>\n",
       "    </tr>\n",
       "    <tr>\n",
       "      <th rowspan=\"3\" valign=\"top\">4</th>\n",
       "      <th>1</th>\n",
       "      <td>92.656766</td>\n",
       "    </tr>\n",
       "    <tr>\n",
       "      <th>0</th>\n",
       "      <td>6.765677</td>\n",
       "    </tr>\n",
       "    <tr>\n",
       "      <th>2</th>\n",
       "      <td>0.577558</td>\n",
       "    </tr>\n",
       "    <tr>\n",
       "      <th rowspan=\"2\" valign=\"top\">5</th>\n",
       "      <th>1</th>\n",
       "      <td>86.363636</td>\n",
       "    </tr>\n",
       "    <tr>\n",
       "      <th>0</th>\n",
       "      <td>13.636364</td>\n",
       "    </tr>\n",
       "  </tbody>\n",
       "</table>\n",
       "</div>"
      ],
      "text/plain": [
       "                                               count\n",
       "DEFCON_Level Aircraft_Carriers_Responding           \n",
       "1            1                             74.899598\n",
       "             0                             24.497992\n",
       "             2                              0.602410\n",
       "2            1                             84.215457\n",
       "             0                             15.105386\n",
       "             2                              0.679157\n",
       "3            1                             92.378517\n",
       "             0                              7.161125\n",
       "             2                              0.460358\n",
       "4            1                             92.656766\n",
       "             0                              6.765677\n",
       "             2                              0.577558\n",
       "5            1                             86.363636\n",
       "             0                             13.636364"
      ]
     },
     "execution_count": 53,
     "metadata": {},
     "output_type": "execute_result"
    }
   ],
   "source": [
    "df_air"
   ]
  },
  {
   "cell_type": "code",
   "execution_count": 54,
   "metadata": {},
   "outputs": [
    {
     "data": {
      "text/plain": [
       "<matplotlib.axes._subplots.AxesSubplot at 0x7f01a5c1a5f8>"
      ]
     },
     "execution_count": 54,
     "metadata": {},
     "output_type": "execute_result"
    },
    {
     "data": {
      "image/png": "[encoded data removed]",
      "text/plain": [
       "<Figure size 432x288 with 1 Axes>"
      ]
     },
     "metadata": {
      "needs_background": "light"
     },
     "output_type": "display_data"
    }
   ],
   "source": [
    "df_air.unstack().plot(kind='bar',stacked=True)"
   ]
  },
  {
   "cell_type": "markdown",
   "metadata": {},
   "source": [
    "Los casos en los que hay más de un aircraft carrier, son tan pocos que no relavantes para el análisis. Es una variable que en la práctica termina siendo un valor booleano.\n",
    "En los gráficos podemos ver que, salvo excepciones, vemos que al crecer el nivel de amenaza aumenta la cantidad de aircrafts carriers que se diriguen a la amenaza."
   ]
  },
  {
   "cell_type": "markdown",
   "metadata": {},
   "source": [
    "## Troops_Mobilized(thousands)"
   ]
  },
  {
   "cell_type": "code",
   "execution_count": 55,
   "metadata": {},
   "outputs": [
    {
     "data": {
      "text/plain": [
       "count    1.000000e+04\n",
       "mean     9.174874e+05\n",
       "std      9.271764e+04\n",
       "min      7.392000e+05\n",
       "25%      8.360000e+05\n",
       "50%      8.976000e+05\n",
       "75%      9.768000e+05\n",
       "max      1.311200e+06\n",
       "Name: Troops_Mobilized(thousands), dtype: float64"
      ]
     },
     "execution_count": 55,
     "metadata": {},
     "output_type": "execute_result"
    }
   ],
   "source": [
    "df[\"Troops_Mobilized(thousands)\"].describe()"
   ]
  },
  {
   "cell_type": "code",
   "execution_count": 56,
   "metadata": {},
   "outputs": [
    {
     "data": {
      "text/plain": [
       "<matplotlib.axes._subplots.AxesSubplot at 0x7f01a5bfce80>"
      ]
     },
     "execution_count": 56,
     "metadata": {},
     "output_type": "execute_result"
    },
    {
     "data": {
      "image/png": "[encoded data removed]",
      "text/plain": [
       "<Figure size 432x288 with 1 Axes>"
      ]
     },
     "metadata": {
      "needs_background": "light"
     },
     "output_type": "display_data"
    }
   ],
   "source": [
    "df[\"Troops_Mobilized(thousands)\"].hist()"
   ]
  },
  {
   "cell_type": "code",
   "execution_count": 58,
   "metadata": {},
   "outputs": [
    {
     "data": {
      "text/plain": [
       "<matplotlib.axes._subplots.AxesSubplot at 0x7f01a5b04be0>"
      ]
     },
     "execution_count": 58,
     "metadata": {},
     "output_type": "execute_result"
    },
    {
     "data": {
      "image/png": "[encoded data removed]",
      "text/plain": [
       "<Figure size 432x288 with 1 Axes>"
      ]
     },
     "metadata": {
      "needs_background": "light"
     },
     "output_type": "display_data"
    }
   ],
   "source": [
    "df.boxplot(column=[\"Troops_Mobilized(thousands)\"], by=[\"DEFCON_Level\"])"
   ]
  },
  {
   "cell_type": "markdown",
   "metadata": {},
   "source": [
    "Nada llamativo por acá, más tropas movilizadas -en promedio-, mayor nivel de amenaza. El nivel 2 es llamativo en varias varibles, siempre se sale de lo esperado. Probablemente, sea por la cantidad desproporcionada de datos con respecto al resto de niveles de amenaza."
   ]
  },
  {
   "cell_type": "code",
   "execution_count": null,
   "metadata": {},
   "outputs": [],
   "source": []
  }
 ],
 "metadata": {
  "kernelspec": {
   "display_name": "Python 3",
   "language": "python",
   "name": "python3"
  },
  "language_info": {
   "codemirror_mode": {
    "name": "ipython",
    "version": 3
   },
   "file_extension": ".py",
   "mimetype": "text/x-python",
   "name": "python",
   "nbconvert_exporter": "python",
   "pygments_lexer": "ipython3",
   "version": "3.6.9"
  }
 },
 "nbformat": 4,
 "nbformat_minor": 4
}
