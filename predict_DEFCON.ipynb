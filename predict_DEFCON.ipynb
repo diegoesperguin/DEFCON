{
 "cells": [
  {
   "cell_type": "code",
   "execution_count": 80,
   "metadata": {
    "scrolled": true
   },
   "outputs": [],
   "source": [
    "# imports\n",
    "import numpy as np\n",
    "import pandas as pd\n",
    "import matplotlib.pyplot as plt\n",
    "import seaborn as sns\n",
    "import os\n",
    "%matplotlib inline"
   ]
  },
  {
   "cell_type": "code",
   "execution_count": 3,
   "metadata": {
    "scrolled": true
   },
   "outputs": [],
   "source": [
    "data_folder = os.getcwd() + \"/Dataset/\"\n",
    "train = \"train.csv\"\n",
    "test = \"test.csv\"\n"
   ]
  },
  {
   "cell_type": "code",
   "execution_count": 4,
   "metadata": {
    "scrolled": true
   },
   "outputs": [],
   "source": [
    "df = pd.read_csv(data_folder+train)"
   ]
  },
  {
   "cell_type": "code",
   "execution_count": 5,
   "metadata": {
    "scrolled": true
   },
   "outputs": [
    {
     "data": {
      "text/html": [
       "<div>\n",
       "<style scoped>\n",
       "    .dataframe tbody tr th:only-of-type {\n",
       "        vertical-align: middle;\n",
       "    }\n",
       "\n",
       "    .dataframe tbody tr th {\n",
       "        vertical-align: top;\n",
       "    }\n",
       "\n",
       "    .dataframe thead th {\n",
       "        text-align: right;\n",
       "    }\n",
       "</style>\n",
       "<table border=\"1\" class=\"dataframe\">\n",
       "  <thead>\n",
       "    <tr style=\"text-align: right;\">\n",
       "      <th></th>\n",
       "      <th>Allied_Nations</th>\n",
       "      <th>Diplomatic_Meetings_Set</th>\n",
       "      <th>Percent_Of_Forces_Mobilized</th>\n",
       "      <th>Hostile_Nations</th>\n",
       "      <th>Active_Threats</th>\n",
       "      <th>Inactive_Threats</th>\n",
       "      <th>Citizen_Fear_Index</th>\n",
       "      <th>Closest_Threat_Distance(km)</th>\n",
       "      <th>Aircraft_Carriers_Responding</th>\n",
       "      <th>Troops_Mobilized(thousands)</th>\n",
       "      <th>DEFCON_Level</th>\n",
       "      <th>ID</th>\n",
       "    </tr>\n",
       "  </thead>\n",
       "  <tbody>\n",
       "    <tr>\n",
       "      <th>0</th>\n",
       "      <td>16</td>\n",
       "      <td>1</td>\n",
       "      <td>0.67</td>\n",
       "      <td>3</td>\n",
       "      <td>6.0</td>\n",
       "      <td>25.0</td>\n",
       "      <td>0.787812</td>\n",
       "      <td>324.36</td>\n",
       "      <td>1</td>\n",
       "      <td>862400.0</td>\n",
       "      <td>3</td>\n",
       "      <td>7570</td>\n",
       "    </tr>\n",
       "    <tr>\n",
       "      <th>1</th>\n",
       "      <td>8</td>\n",
       "      <td>1</td>\n",
       "      <td>0.11</td>\n",
       "      <td>2</td>\n",
       "      <td>38.0</td>\n",
       "      <td>48.0</td>\n",
       "      <td>0.419236</td>\n",
       "      <td>359.34</td>\n",
       "      <td>0</td>\n",
       "      <td>959200.0</td>\n",
       "      <td>4</td>\n",
       "      <td>12128</td>\n",
       "    </tr>\n",
       "    <tr>\n",
       "      <th>2</th>\n",
       "      <td>9</td>\n",
       "      <td>1</td>\n",
       "      <td>0.49</td>\n",
       "      <td>3</td>\n",
       "      <td>32.0</td>\n",
       "      <td>69.0</td>\n",
       "      <td>0.582232</td>\n",
       "      <td>332.84</td>\n",
       "      <td>1</td>\n",
       "      <td>836000.0</td>\n",
       "      <td>3</td>\n",
       "      <td>2181</td>\n",
       "    </tr>\n",
       "    <tr>\n",
       "      <th>3</th>\n",
       "      <td>7</td>\n",
       "      <td>0</td>\n",
       "      <td>0.30</td>\n",
       "      <td>2</td>\n",
       "      <td>31.0</td>\n",
       "      <td>52.0</td>\n",
       "      <td>0.589574</td>\n",
       "      <td>358.28</td>\n",
       "      <td>1</td>\n",
       "      <td>924000.0</td>\n",
       "      <td>3</td>\n",
       "      <td>5946</td>\n",
       "    </tr>\n",
       "    <tr>\n",
       "      <th>4</th>\n",
       "      <td>8</td>\n",
       "      <td>1</td>\n",
       "      <td>0.12</td>\n",
       "      <td>5</td>\n",
       "      <td>13.0</td>\n",
       "      <td>42.0</td>\n",
       "      <td>0.552863</td>\n",
       "      <td>364.64</td>\n",
       "      <td>0</td>\n",
       "      <td>968000.0</td>\n",
       "      <td>2</td>\n",
       "      <td>9054</td>\n",
       "    </tr>\n",
       "  </tbody>\n",
       "</table>\n",
       "</div>"
      ],
      "text/plain": [
       "   Allied_Nations  Diplomatic_Meetings_Set  Percent_Of_Forces_Mobilized  \\\n",
       "0              16                        1                         0.67   \n",
       "1               8                        1                         0.11   \n",
       "2               9                        1                         0.49   \n",
       "3               7                        0                         0.30   \n",
       "4               8                        1                         0.12   \n",
       "\n",
       "   Hostile_Nations  Active_Threats  Inactive_Threats  Citizen_Fear_Index  \\\n",
       "0                3             6.0              25.0            0.787812   \n",
       "1                2            38.0              48.0            0.419236   \n",
       "2                3            32.0              69.0            0.582232   \n",
       "3                2            31.0              52.0            0.589574   \n",
       "4                5            13.0              42.0            0.552863   \n",
       "\n",
       "   Closest_Threat_Distance(km)  Aircraft_Carriers_Responding  \\\n",
       "0                       324.36                             1   \n",
       "1                       359.34                             0   \n",
       "2                       332.84                             1   \n",
       "3                       358.28                             1   \n",
       "4                       364.64                             0   \n",
       "\n",
       "   Troops_Mobilized(thousands)  DEFCON_Level     ID  \n",
       "0                     862400.0             3   7570  \n",
       "1                     959200.0             4  12128  \n",
       "2                     836000.0             3   2181  \n",
       "3                     924000.0             3   5946  \n",
       "4                     968000.0             2   9054  "
      ]
     },
     "execution_count": 5,
     "metadata": {},
     "output_type": "execute_result"
    }
   ],
   "source": [
    "df.head()"
   ]
  },
  {
   "cell_type": "code",
   "execution_count": 6,
   "metadata": {
    "scrolled": true
   },
   "outputs": [
    {
     "name": "stdout",
     "output_type": "stream",
     "text": [
      "<class 'pandas.core.frame.DataFrame'>\n",
      "RangeIndex: 10000 entries, 0 to 9999\n",
      "Data columns (total 12 columns):\n",
      " #   Column                        Non-Null Count  Dtype  \n",
      "---  ------                        --------------  -----  \n",
      " 0   Allied_Nations                10000 non-null  int64  \n",
      " 1   Diplomatic_Meetings_Set       10000 non-null  int64  \n",
      " 2   Percent_Of_Forces_Mobilized   10000 non-null  float64\n",
      " 3   Hostile_Nations               10000 non-null  int64  \n",
      " 4   Active_Threats                10000 non-null  float64\n",
      " 5   Inactive_Threats              10000 non-null  float64\n",
      " 6   Citizen_Fear_Index            10000 non-null  float64\n",
      " 7   Closest_Threat_Distance(km)   10000 non-null  float64\n",
      " 8   Aircraft_Carriers_Responding  10000 non-null  int64  \n",
      " 9   Troops_Mobilized(thousands)   10000 non-null  float64\n",
      " 10  DEFCON_Level                  10000 non-null  int64  \n",
      " 11  ID                            10000 non-null  int64  \n",
      "dtypes: float64(6), int64(6)\n",
      "memory usage: 937.6 KB\n"
     ]
    }
   ],
   "source": [
    "df.info()"
   ]
  },
  {
   "cell_type": "code",
   "execution_count": 87,
   "metadata": {
    "scrolled": true
   },
   "outputs": [],
   "source": [
    "df_dl = df[\"DEFCON_Level\"].value_counts()"
   ]
  },
  {
   "cell_type": "code",
   "execution_count": 96,
   "metadata": {},
   "outputs": [
    {
     "data": {
      "image/png": "[encoded data removed]",
      "text/plain": [
       "<Figure size 432x288 with 1 Axes>"
      ]
     },
     "metadata": {
      "needs_background": "light"
     },
     "output_type": "display_data"
    }
   ],
   "source": [
    "df_dl.plot(kind=\"bar\")\n",
    "plt.title(\"Cantidad de ejemplos por nivel de amenaza\")\n",
    "plt.ylabel(\"Frecuencia\")\n",
    "plt.xlabel(\"DEFCON Level\")\n",
    "plt.show()"
   ]
  },
  {
   "cell_type": "code",
   "execution_count": 95,
   "metadata": {},
   "outputs": [
    {
     "data": {
      "text/plain": [
       "2    42.70\n",
       "3    39.10\n",
       "4    12.12\n",
       "1     4.98\n",
       "5     1.10\n",
       "Name: DEFCON_Level, dtype: float64"
      ]
     },
     "execution_count": 95,
     "metadata": {},
     "output_type": "execute_result"
    }
   ],
   "source": [
    "df_dl/100"
   ]
  },
  {
   "cell_type": "markdown",
   "metadata": {},
   "source": [
    "Vemos que la cantidad de ejemplos por cada nivel de amenaza, no están distribuidos de forma pareja a lo largo del dataset. Por ejemplo, 42,7% de los datos corresponde al defcon 2 mientras que solo el 1,1% es defcon5. \n",
    "Al momento de entrenar nuestros modelos, tendremos que ocuparnos de este problema, de lo contrario, transferiremos este sezgo a nuestras predicciones.\n"
   ]
  },
  {
   "cell_type": "code",
   "execution_count": 12,
   "metadata": {
    "scrolled": true
   },
   "outputs": [
    {
     "data": {
      "text/plain": [
       "1    5233\n",
       "0    4763\n",
       "2       4\n",
       "Name: Diplomatic_Meetings_Set, dtype: int64"
      ]
     },
     "execution_count": 12,
     "metadata": {},
     "output_type": "execute_result"
    }
   ],
   "source": [
    "df[\"Diplomatic_Meetings_Set\"].value_counts()"
   ]
  },
  {
   "cell_type": "code",
   "execution_count": 64,
   "metadata": {},
   "outputs": [],
   "source": [
    "df[\"Diplomatic_Meetings_Set\"] = np.where(df[\"Diplomatic_Meetings_Set\"]>1,1,df[\"Diplomatic_Meetings_Set\"])"
   ]
  },
  {
   "cell_type": "code",
   "execution_count": 81,
   "metadata": {},
   "outputs": [
    {
     "data": {
      "text/plain": [
       "<matplotlib.axes._subplots.AxesSubplot at 0x7fd90115a898>"
      ]
     },
     "execution_count": 81,
     "metadata": {},
     "output_type": "execute_result"
    },
    {
     "data": {
      "image/png": "[encoded data removed]",
      "text/plain": [
       "<Figure size 432x288 with 1 Axes>"
      ]
     },
     "metadata": {
      "needs_background": "light"
     },
     "output_type": "display_data"
    }
   ],
   "source": [
    "df[\"Diplomatic_Meetings_Set\"].value_counts().plot(kind=\"barh\")"
   ]
  },
  {
   "cell_type": "code",
   "execution_count": 66,
   "metadata": {
    "scrolled": true
   },
   "outputs": [],
   "source": [
    "diplomatic_df = df.groupby(by=\"DEFCON_Level\")[\"Diplomatic_Meetings_Set\"].value_counts().rename(\"count\").to_frame()"
   ]
  },
  {
   "cell_type": "code",
   "execution_count": 67,
   "metadata": {},
   "outputs": [],
   "source": [
    "diplomatic_df = (diplomatic_df/ diplomatic_df.groupby(level=0).sum()) * 100"
   ]
  },
  {
   "cell_type": "code",
   "execution_count": 74,
   "metadata": {
    "scrolled": true
   },
   "outputs": [
    {
     "data": {
      "text/html": [
       "<div>\n",
       "<style scoped>\n",
       "    .dataframe tbody tr th:only-of-type {\n",
       "        vertical-align: middle;\n",
       "    }\n",
       "\n",
       "    .dataframe tbody tr th {\n",
       "        vertical-align: top;\n",
       "    }\n",
       "\n",
       "    .dataframe thead th {\n",
       "        text-align: right;\n",
       "    }\n",
       "</style>\n",
       "<table border=\"1\" class=\"dataframe\">\n",
       "  <thead>\n",
       "    <tr style=\"text-align: right;\">\n",
       "      <th></th>\n",
       "      <th></th>\n",
       "      <th>count</th>\n",
       "    </tr>\n",
       "    <tr>\n",
       "      <th>DEFCON_Level</th>\n",
       "      <th>Diplomatic_Meetings_Set</th>\n",
       "      <th></th>\n",
       "    </tr>\n",
       "  </thead>\n",
       "  <tbody>\n",
       "    <tr>\n",
       "      <th rowspan=\"2\" valign=\"top\">1</th>\n",
       "      <th>1</th>\n",
       "      <td>75.301205</td>\n",
       "    </tr>\n",
       "    <tr>\n",
       "      <th>0</th>\n",
       "      <td>24.698795</td>\n",
       "    </tr>\n",
       "    <tr>\n",
       "      <th rowspan=\"2\" valign=\"top\">2</th>\n",
       "      <th>1</th>\n",
       "      <td>63.255269</td>\n",
       "    </tr>\n",
       "    <tr>\n",
       "      <th>0</th>\n",
       "      <td>36.744731</td>\n",
       "    </tr>\n",
       "    <tr>\n",
       "      <th rowspan=\"2\" valign=\"top\">3</th>\n",
       "      <th>0</th>\n",
       "      <td>52.890026</td>\n",
       "    </tr>\n",
       "    <tr>\n",
       "      <th>1</th>\n",
       "      <td>47.109974</td>\n",
       "    </tr>\n",
       "    <tr>\n",
       "      <th rowspan=\"2\" valign=\"top\">4</th>\n",
       "      <th>0</th>\n",
       "      <td>75.247525</td>\n",
       "    </tr>\n",
       "    <tr>\n",
       "      <th>1</th>\n",
       "      <td>24.752475</td>\n",
       "    </tr>\n",
       "    <tr>\n",
       "      <th rowspan=\"2\" valign=\"top\">5</th>\n",
       "      <th>0</th>\n",
       "      <td>82.727273</td>\n",
       "    </tr>\n",
       "    <tr>\n",
       "      <th>1</th>\n",
       "      <td>17.272727</td>\n",
       "    </tr>\n",
       "  </tbody>\n",
       "</table>\n",
       "</div>"
      ],
      "text/plain": [
       "                                          count\n",
       "DEFCON_Level Diplomatic_Meetings_Set           \n",
       "1            1                        75.301205\n",
       "             0                        24.698795\n",
       "2            1                        63.255269\n",
       "             0                        36.744731\n",
       "3            0                        52.890026\n",
       "             1                        47.109974\n",
       "4            0                        75.247525\n",
       "             1                        24.752475\n",
       "5            0                        82.727273\n",
       "             1                        17.272727"
      ]
     },
     "execution_count": 74,
     "metadata": {},
     "output_type": "execute_result"
    }
   ],
   "source": [
    "diplomatic_df"
   ]
  },
  {
   "cell_type": "code",
   "execution_count": 84,
   "metadata": {},
   "outputs": [
    {
     "data": {
      "image/png": "[encoded data removed]",
      "text/plain": [
       "<Figure size 432x288 with 1 Axes>"
      ]
     },
     "metadata": {
      "needs_background": "light"
     },
     "output_type": "display_data"
    }
   ],
   "source": [
    "diplomatic_df.unstack().plot(kind='bar',stacked=True)\n",
    "plt.legend([\"No hubo reunión\", \"Hubo reunión\"])\n",
    "plt.title(\"Porcentaje de veces que hubo reunión frente a las que no las hubo\")\n",
    "plt.ylabel(\"Porcentaje\")\n",
    "plt.show()"
   ]
  },
  {
   "cell_type": "markdown",
   "metadata": {},
   "source": [
    "Al parecer, hubo o no hubo una reunión diplomática. Solo 4 casos en los que hubo más de 1, en 10k de filas, es un outlier. Por simplicidad, lo voy a remplazar por 1. Vemos que en nuestro dataset, hay más casos en los que si hubo una reunión pero no nos dice nada sobre lo que querémos predecir: el próximo defcon level.\n",
    "Para poder extrarle mayor información a este dato debo agrupar por nivel de amenaza.\n",
    "El próximo gráfico es muy enriquecedor, queda claro que a mayor nivel de amenaza, las reuniones son cada vez menores.\n",
    "Siendo que, en el menor de nivel de amenaza, 75% de la veces hubo una reunión para tratar de mitigar el conflicto y en el mayor nivel de amenaza 82% de las veces, no la hubo. \n",
    "\n",
    "*** IDEA GENERAL, REDACTAR MEJOR Y AGREGAR MÁS CONTENIDO ***"
   ]
  },
  {
   "cell_type": "markdown",
   "metadata": {},
   "source": [
    "## Allied_Nations"
   ]
  },
  {
   "cell_type": "code",
   "execution_count": 98,
   "metadata": {},
   "outputs": [
    {
     "data": {
      "text/plain": [
       "15       7\n",
       "16      27\n",
       "14      28\n",
       "13     144\n",
       "5      179\n",
       "11     451\n",
       "12     475\n",
       "6      872\n",
       "10    1052\n",
       "9     1447\n",
       "7     2498\n",
       "8     2820\n",
       "Name: Allied_Nations, dtype: int64"
      ]
     },
     "execution_count": 98,
     "metadata": {},
     "output_type": "execute_result"
    }
   ],
   "source": [
    "df[\"Allied_Nations\"].value_counts().sort_values()"
   ]
  },
  {
   "cell_type": "code",
   "execution_count": 102,
   "metadata": {},
   "outputs": [
    {
     "data": {
      "text/plain": [
       "count    10000.000000\n",
       "mean         8.317800\n",
       "std          1.748802\n",
       "min          5.000000\n",
       "25%          7.000000\n",
       "50%          8.000000\n",
       "75%          9.000000\n",
       "max         16.000000\n",
       "Name: Allied_Nations, dtype: float64"
      ]
     },
     "execution_count": 102,
     "metadata": {},
     "output_type": "execute_result"
    }
   ],
   "source": [
    "df[\"Allied_Nations\"].describe()"
   ]
  },
  {
   "cell_type": "markdown",
   "metadata": {},
   "source": [
    "Vemos que en nuestro dataset, la cantidad mínima de naciones aliadas es de 5 y el máximo  de 16. \n",
    "Siendo 8 la moda y la mediana, 8,31 el promedio y 1,74 el desvío standard. "
   ]
  },
  {
   "cell_type": "code",
   "execution_count": 9,
   "metadata": {
    "scrolled": true
   },
   "outputs": [
    {
     "data": {
      "text/plain": [
       "<matplotlib.axes._subplots.AxesSubplot at 0x7fd90ca8d240>"
      ]
     },
     "execution_count": 9,
     "metadata": {},
     "output_type": "execute_result"
    },
    {
     "data": {
      "image/png": "[encoded data removed]",
      "text/plain": [
       "<Figure size 432x288 with 1 Axes>"
      ]
     },
     "metadata": {
      "needs_background": "light"
     },
     "output_type": "display_data"
    }
   ],
   "source": [
    "df[\"Allied_Nations\"].plot(kind=\"hist\")"
   ]
  },
  {
   "cell_type": "code",
   "execution_count": 104,
   "metadata": {},
   "outputs": [
    {
     "data": {
      "text/plain": [
       "<matplotlib.axes._subplots.AxesSubplot at 0x7fd90099a588>"
      ]
     },
     "execution_count": 104,
     "metadata": {},
     "output_type": "execute_result"
    },
    {
     "data": {
      "image/png": "[encoded data removed]",
      "text/plain": [
       "<Figure size 432x288 with 1 Axes>"
      ]
     },
     "metadata": {
      "needs_background": "light"
     },
     "output_type": "display_data"
    }
   ],
   "source": [
    "df.boxplot(column=\"Allied_Nations\")"
   ]
  },
  {
   "cell_type": "markdown",
   "metadata": {},
   "source": [
    "A simple vista, vemos que hay una asimetría positiva, con una cola hacia la derecha.\n",
    "Entre 5 y 8, se concentra el 50% de los datos, mientras que el 50% restante varía entre 8 y 16, lo que explica la cola larga en el histograma y el bigote superior, esos valores tienen una dispersión mucho más amplia.\n",
    "El box plot, nos muestra que una cantidad mayor a 13 naciones aliadas, es un valor atípico.\n",
    "Analizar esta variable aislada, no nos brinda mucha información nueva. Por lo que agrupamos por nivel defcon.\n",
    "A simple vista, no parece ser un gran predictor esta variable. Las cajas por nivel, no muestran un cambio tan significativo, por lo menos hasta el 3er nivel DEFCON.\n",
    "El 4 y el 5, vemos que hay muchísima dispersión a partir del 2do cuartil. EL 50% superior de los datos, varía"
   ]
  },
  {
   "cell_type": "code",
   "execution_count": 110,
   "metadata": {},
   "outputs": [
    {
     "data": {
      "image/png": "[encoded data removed]",
      "text/plain": [
       "<Figure size 432x288 with 1 Axes>"
      ]
     },
     "metadata": {
      "needs_background": "light"
     },
     "output_type": "display_data"
    }
   ],
   "source": [
    "df.boxplot(column=\"Allied_Nations\", by=\"DEFCON_Level\")\n",
    "plt.title(\"Naciones aliadas por DEFCON Level\")\n",
    "plt.xlabel(\"DEFCON Level\")\n",
    "plt.ylabel(\"Cantidad de aliados\")\n",
    "plt.show()"
   ]
  },
  {
   "cell_type": "code",
   "execution_count": null,
   "metadata": {},
   "outputs": [],
   "source": []
  }
 ],
 "metadata": {
  "kernelspec": {
   "display_name": "Python 3",
   "language": "python",
   "name": "python3"
  },
  "language_info": {
   "codemirror_mode": {
    "name": "ipython",
    "version": 3
   },
   "file_extension": ".py",
   "mimetype": "text/x-python",
   "name": "python",
   "nbconvert_exporter": "python",
   "pygments_lexer": "ipython3",
   "version": "3.6.9"
  }
 },
 "nbformat": 4,
 "nbformat_minor": 4
}
